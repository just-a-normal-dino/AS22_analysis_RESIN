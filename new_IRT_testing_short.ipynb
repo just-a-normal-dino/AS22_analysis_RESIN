{
 "cells": [
  {
   "cell_type": "markdown",
   "metadata": {},
   "source": [
    "This code tests how correlation cha"
   ]
  },
  {
   "cell_type": "code",
   "execution_count": 1,
   "metadata": {},
   "outputs": [],
   "source": [
    "# import packages\n",
    "\n",
    "import numpy as np\n",
    "import pandas as pd\n",
    "import matplotlib.pyplot as plt\n",
    "import importlib\n",
    "\n",
    "import winsound\n",
    "import scipy.stats as stt\n",
    "import networkx as nx \n",
    "\n",
    "import random"
   ]
  },
  {
   "cell_type": "code",
   "execution_count": null,
   "metadata": {},
   "outputs": [],
   "source": []
  },
  {
   "cell_type": "markdown",
   "metadata": {},
   "source": [
    "# Main functions"
   ]
  },
  {
   "cell_type": "code",
   "execution_count": 11,
   "metadata": {},
   "outputs": [],
   "source": [
    "def gauss(x,A,mu,sig):\n",
    "    f = A * np.exp(-0.5*((x-mu)**2)/(sig**2))\n",
    "    return f"
   ]
  },
  {
   "cell_type": "code",
   "execution_count": 4,
   "metadata": {},
   "outputs": [],
   "source": [
    "def phi_f(x,y1,y2,p):\n",
    "    n11 = np.sum(y1*y2*p)*dx\n",
    "    n10 = np.sum(y1*(1-y2)*p)*dx\n",
    "    n01 = np.sum(y2*(1-y1)*p)*dx\n",
    "    n00 = np.sum((1-y1)*(1-y2)*p)*dx\n",
    "\n",
    "    n1_ = np.sum(y1*p)*dx\n",
    "    n0_ = np.sum((1-y1)*p)*dx\n",
    "    n_1 = np.sum(y2*p)*dx\n",
    "    n_0 = np.sum((1-y2)*p)*dx\n",
    "\n",
    "    num = n11*n00 - n10*n01\n",
    "    den = n1_ * n0_ * n_1 * n_0\n",
    "    \n",
    "    phi = num / np.sqrt(den)\n",
    "    \n",
    "    return phi\n",
    "    "
   ]
  },
  {
   "cell_type": "code",
   "execution_count": 5,
   "metadata": {},
   "outputs": [],
   "source": [
    "def phi_s1(x,y1,y2,p):\n",
    "    I = np.sum(y1*y2*p)*dx\n",
    "\n",
    "    b1 = np.sum(y1*p)*dx\n",
    "    b2 = np.sum(y2*p)*dx\n",
    "\n",
    "    phi = (I - b1*b2) / np.sqrt(b1*b2*(1-b1)*(1-b2))\n",
    "    \n",
    "    return phi"
   ]
  },
  {
   "cell_type": "code",
   "execution_count": 6,
   "metadata": {},
   "outputs": [],
   "source": [
    "def phi_s2(x,y1,y2,p):\n",
    "    I = np.sum(y1*y2*p)*dx\n",
    "    b = np.sum(y1*p)*dx\n",
    "\n",
    "    phi = (I-b**2)/(b*(1-b))\n",
    "    \n",
    "    return phi"
   ]
  },
  {
   "cell_type": "code",
   "execution_count": 7,
   "metadata": {},
   "outputs": [],
   "source": [
    "# Simulate people answering the survey\n",
    "def phi_sim(x,y1,y2,p,N):\n",
    "    p1 = p/np.max(p)\n",
    "    \n",
    "    v1 = []\n",
    "    v2 = []\n",
    "    \n",
    "    index = range(0,len(x))\n",
    "    \n",
    "    for p_ in range(0,N): # for each person\n",
    "        \n",
    "        finito = False\n",
    "        \n",
    "        # select the position of the person\n",
    "        while not finito:\n",
    "            ni = random.choice(index)\n",
    "            \n",
    "            if p[ni] > np.random.rand():\n",
    "                finito = True\n",
    "                \n",
    "                xi = x[ni]\n",
    "                \n",
    "        # Answer the two questions\n",
    "        y1i = y1[ni]\n",
    "        y2i = y2[ni]\n",
    "        \n",
    "        if y1i > np.random.rand():\n",
    "            v1.append(1)\n",
    "        else:\n",
    "            v1.append(0)\n",
    "            \n",
    "        if y2i > np.random.rand():\n",
    "            v2.append(1)\n",
    "        else:\n",
    "            v2.append(0)\n",
    "            \n",
    "    phi = stt.spearmanr(v1,v2)\n",
    "    \n",
    "    return phi        \n",
    "    "
   ]
  },
  {
   "cell_type": "code",
   "execution_count": 8,
   "metadata": {},
   "outputs": [],
   "source": [
    "def overlap(x,y1,y2,p):\n",
    "    I = np.sum(y1*y2*p)*dx\n",
    "    return I"
   ]
  },
  {
   "cell_type": "markdown",
   "metadata": {},
   "source": [
    "Check that the different phi values coincides"
   ]
  },
  {
   "cell_type": "code",
   "execution_count": 9,
   "metadata": {},
   "outputs": [
    {
     "name": "stdout",
     "output_type": "stream",
     "text": [
      "-0.31618244951807845\n",
      "-0.32265397765476334\n",
      "-0.3166215104053448\n",
      "-0.31662151040534486\n"
     ]
    },
    {
     "data": {
      "text/plain": [
       "[<matplotlib.lines.Line2D at 0x286b9bcdbb0>]"
      ]
     },
     "execution_count": 9,
     "metadata": {},
     "output_type": "execute_result"
    },
    {
     "data": {
      "image/png": "[encoded data removed]",
      "text/plain": [
       "<Figure size 432x288 with 1 Axes>"
      ]
     },
     "metadata": {
      "needs_background": "light"
     },
     "output_type": "display_data"
    }
   ],
   "source": [
    "# define the space\n",
    "dx = 0.01\n",
    "x_min = 0\n",
    "x_max = 10\n",
    "x = np.arange(x_min,x_max+dx,dx)\n",
    "\n",
    "N = 10000\n",
    "\n",
    "A1 = 1\n",
    "sig1 = 1\n",
    "mu1 = 7\n",
    "\n",
    "A2 = A1\n",
    "sig2 = sig1\n",
    "mu2 = mu1-4\n",
    "\n",
    "y1 = gauss(x,A1,mu1,sig1)\n",
    "y2 = gauss(x,A2,mu2,sig2)\n",
    "\n",
    "p = x*0+1/(x_max-x_min)\n",
    "\n",
    "phi1 = phi_f(x,y1,y2,p)\n",
    "phi2 = phi_sim(x,y1,y2,p,N)\n",
    "phi_app1 = phi_s1(x,y1,y2,p)\n",
    "phi_app2 = phi_s2(x,y1,y2,p)\n",
    "\n",
    "print(phi1)\n",
    "print(phi2[0])\n",
    "print(phi_app1)\n",
    "print(phi_app2)\n",
    "\n",
    "plt.plot(x,y1)\n",
    "plt.plot(x,y2)"
   ]
  },
  {
   "cell_type": "code",
   "execution_count": null,
   "metadata": {},
   "outputs": [],
   "source": []
  },
  {
   "cell_type": "markdown",
   "metadata": {},
   "source": [
    "# Test correlation VS overlap"
   ]
  },
  {
   "cell_type": "markdown",
   "metadata": {},
   "source": [
    "Change position of the curves"
   ]
  },
  {
   "cell_type": "code",
   "execution_count": 10,
   "metadata": {},
   "outputs": [
    {
     "data": {
      "text/plain": [
       "Text(0, 0.5, 'Correlation')"
      ]
     },
     "execution_count": 10,
     "metadata": {},
     "output_type": "execute_result"
    },
    {
     "data": {
      "image/png": "[encoded data removed]",
      "text/plain": [
       "<Figure size 432x288 with 1 Axes>"
      ]
     },
     "metadata": {
      "needs_background": "light"
     },
     "output_type": "display_data"
    },
    {
     "data": {
      "image/png": "[encoded data removed]",
      "text/plain": [
       "<Figure size 432x288 with 1 Axes>"
      ]
     },
     "metadata": {
      "needs_background": "light"
     },
     "output_type": "display_data"
    }
   ],
   "source": [
    "# define the space\n",
    "dx = 0.01\n",
    "x_min = 0\n",
    "x_max = 10\n",
    "x = np.arange(x_min,x_max+dx,dx)\n",
    "\n",
    "N_rep = 100\n",
    "\n",
    "A1 = 1\n",
    "sig1 = 1\n",
    "\n",
    "sig2 = sig1\n",
    "A2 = A1\n",
    "\n",
    "mu1 = 7\n",
    "\n",
    "I_v = []\n",
    "d_v = []\n",
    "phi_v = []\n",
    "\n",
    "for i in range(0,N_rep):\n",
    "\n",
    "    mu2 = np.random.rand()*6+2 ##### We do not allow to get too close to the edges\n",
    "\n",
    "    y1 = gauss(x,A1,mu1,sig1)\n",
    "    y2 = gauss(x,A2,mu2,sig2)\n",
    "\n",
    "    p = x*0+1/(x_max-x_min)\n",
    "\n",
    "    phi1 = phi_f(x,y1,y2,p)\n",
    "    phi_app1 = phi_s1(x,y1,y2,p)\n",
    "    \n",
    "    I = overlap(x,y1,y2,p)\n",
    "    d = np.abs(mu1-mu2)\n",
    "    \n",
    "    if np.abs(phi1 - phi_app1) > 0.01:\n",
    "        raise Exeption(\"The two phi do not coincide!\")\n",
    "        \n",
    "    I_v.append(I)\n",
    "    d_v.append(d)\n",
    "    phi_v.append(phi1)\n",
    "\n",
    "I_v = np.array(I_v)\n",
    "d_v = np.array(d_v)\n",
    "phi_v = np.array(phi_v)\n",
    "\n",
    "plt.figure()\n",
    "plt.grid()\n",
    "# plt.plot(I_v,phi_v,'*')\n",
    "plt.plot(I_v[phi_v<0],phi_v[phi_v<0],'*',color='navy')\n",
    "plt.plot(I_v[phi_v>=0],phi_v[phi_v>=0],'*',color='r')\n",
    "plt.xlabel('Overlap')\n",
    "plt.ylabel('Correlation')\n",
    "\n",
    "plt.figure()\n",
    "plt.grid()\n",
    "# plt.plot(d_v,phi_v,'*')\n",
    "plt.plot(d_v[phi_v<0],phi_v[phi_v<0],'*',color='navy')\n",
    "plt.plot(d_v[phi_v>=0],phi_v[phi_v>=0],'*',color='r')\n",
    "plt.xlabel('Distance')\n",
    "plt.ylabel('Correlation')\n",
    "    "
   ]
  },
  {
   "cell_type": "code",
   "execution_count": null,
   "metadata": {},
   "outputs": [],
   "source": []
  },
  {
   "cell_type": "code",
   "execution_count": null,
   "metadata": {},
   "outputs": [],
   "source": []
  }
 ],
 "metadata": {
  "kernelspec": {
   "display_name": "Python 3",
   "language": "python",
   "name": "python3"
  },
  "language_info": {
   "codemirror_mode": {
    "name": "ipython",
    "version": 3
   },
   "file_extension": ".py",
   "mimetype": "text/x-python",
   "name": "python",
   "nbconvert_exporter": "python",
   "pygments_lexer": "ipython3",
   "version": "3.8.5"
  }
 },
 "nbformat": 4,
 "nbformat_minor": 4
}
