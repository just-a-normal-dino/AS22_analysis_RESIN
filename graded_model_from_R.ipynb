{
 "cells": [
  {
   "cell_type": "markdown",
   "metadata": {},
   "source": [
    "This code shows how we compare the results of the curves (obtained from the R code) with the results from Resin"
   ]
  },
  {
   "cell_type": "code",
   "execution_count": 1,
   "metadata": {},
   "outputs": [],
   "source": [
    "# import packages\n",
    "\n",
    "import numpy as np\n",
    "import pandas as pd\n",
    "import matplotlib.pyplot as plt\n",
    "import importlib\n",
    "\n",
    "import winsound \n",
    "import scipy.stats as stt\n",
    "import networkx as nx"
   ]
  },
  {
   "cell_type": "code",
   "execution_count": 2,
   "metadata": {},
   "outputs": [],
   "source": [
    "def expfun(x,a,b):\n",
    "    fun = np.exp(a*(x-b)) / (1+ np.exp(a*(x-b)) )\n",
    "    return fun"
   ]
  },
  {
   "cell_type": "code",
   "execution_count": 3,
   "metadata": {},
   "outputs": [],
   "source": [
    "dx = 0.01\n",
    "x = np.arange(-4,4+dx,dx)\n"
   ]
  },
  {
   "cell_type": "markdown",
   "metadata": {},
   "source": [
    "Test plotting the curves from the Graded model\n",
    "\n",
    "This step is on random data, just to check/show that the Graded model is working well"
   ]
  },
  {
   "cell_type": "code",
   "execution_count": 5,
   "metadata": {},
   "outputs": [
    {
     "name": "stdout",
     "output_type": "stream",
     "text": [
      "[2.0765780399767912, -0.2353600519547902, -1.097554814659027, -1.7072309730668191, -2.8771765631370387]\n"
     ]
    },
    {
     "data": {
      "image/png": "[encoded data removed]",
      "text/plain": [
       "<Figure size 432x288 with 1 Axes>"
      ]
     },
     "metadata": {
      "needs_background": "light"
     },
     "output_type": "display_data"
    }
   ],
   "source": [
    "N_ans = 4\n",
    "b = [0.268,-0.739, -1.459,-1.967]\n",
    "a = -2.710\n",
    "\n",
    "f = []\n",
    "f_sum = x*0\n",
    "\n",
    "mus = []\n",
    "\n",
    "plt.figure()\n",
    "for i in range(0,N_ans+1):\n",
    "    if i==0:\n",
    "        fi0 = x*0+1\n",
    "    else:\n",
    "        fi0 = fi\n",
    "#     fi = expfun(x,a[i],b)\n",
    "    if i == N_ans:\n",
    "        fid = x*0+1 - f_sum\n",
    "    else:\n",
    "        fi = expfun(x,a,b[i])\n",
    "        fid = fi0-fi\n",
    "    \n",
    "    f_sum += fid \n",
    "    \n",
    "    mus.append(np.sum(x*fid/np.sum(fid)))\n",
    "    \n",
    "    plt.plot(x,fid)\n",
    "    \n",
    "plt.grid()\n",
    "\n",
    "print(mus)"
   ]
  },
  {
   "cell_type": "code",
   "execution_count": null,
   "metadata": {},
   "outputs": [],
   "source": []
  },
  {
   "cell_type": "markdown",
   "metadata": {},
   "source": [
    "# Full data"
   ]
  },
  {
   "cell_type": "markdown",
   "metadata": {},
   "source": [
    "#### Calculates the values of the curves from R\n",
    "\n",
    "(This are the values obtained from the R code; here we want to extract the mean of each curve to compare it to Resin)"
   ]
  },
  {
   "cell_type": "code",
   "execution_count": 6,
   "metadata": {},
   "outputs": [],
   "source": [
    "# These are the results from R\n",
    "l = \"\"\"\n",
    "Q9_1,-2.065,-1.476,-1.071,-0.430,1.261\n",
    "Q9_2,0.556,-0.658,-1.183,-1.946,-2.129\n",
    "Q9_3,-1.800,-1.077,-0.449,0.503,1.828\n",
    "Q9_4,0.628,-0.375,-1.039,-1.816,-2.614\n",
    "Q9_5,-0.842,-1.374,-1.930,-2.371,-1.641\n",
    "Q9_6,-0.038,-1.408,-2.323,-2.824,-1.667\n",
    "Q9_7,0.177,-0.681,-1.092,-1.815,-1.874\n",
    "Q9_8,0.268,-0.739,-1.459,-1.967,-2.710\n",
    "\"\"\"\n",
    "l1 = l.split('\\n')\n",
    "\n",
    "b_vec = []\n",
    "a_vec = []\n",
    "for lt in l1[1:-1]:\n",
    "    uu = lt.split(',')\n",
    "    b_vec.append(uu[1:5])\n",
    "    a_vec.append(uu[5])"
   ]
  },
  {
   "cell_type": "code",
   "execution_count": null,
   "metadata": {},
   "outputs": [],
   "source": []
  },
  {
   "cell_type": "code",
   "execution_count": 7,
   "metadata": {},
   "outputs": [],
   "source": [
    "N_ans = 4\n",
    "\n",
    "mus_vec = []\n",
    "\n",
    "for j in range(0,len(a_vec)):\n",
    "    b = np.array(b_vec[j]).astype(float)\n",
    "    a = float(a_vec[j])\n",
    "\n",
    "    f = []\n",
    "    f_sum = x*0\n",
    "\n",
    "    mus = []\n",
    "\n",
    "#     plt.figure()\n",
    "    for i in range(0,N_ans+1):\n",
    "        if i==0:\n",
    "            fi0 = x*0+1\n",
    "        else:\n",
    "            fi0 = fi\n",
    "    #     fi = expfun(x,a[i],b)\n",
    "        if i == N_ans:\n",
    "            fid = x*0+1 - f_sum\n",
    "        else:\n",
    "            fi = expfun(x,a,b[i])\n",
    "            fid = fi0-fi\n",
    "\n",
    "        f_sum += fid \n",
    "\n",
    "        mus.append(np.sum(x*fid/np.sum(fid)))\n",
    "\n",
    "    mus_vec.append(sorted(mus))"
   ]
  },
  {
   "cell_type": "code",
   "execution_count": null,
   "metadata": {},
   "outputs": [],
   "source": []
  },
  {
   "cell_type": "markdown",
   "metadata": {},
   "source": [
    "### Calculate for the network"
   ]
  },
  {
   "cell_type": "code",
   "execution_count": 10,
   "metadata": {},
   "outputs": [],
   "source": [
    "# Import the network\n",
    "filename = 'Network'\n",
    "GG = nx.readwrite.gexf.read_gexf(filename+'.gexf')"
   ]
  },
  {
   "cell_type": "code",
   "execution_count": null,
   "metadata": {},
   "outputs": [],
   "source": []
  },
  {
   "cell_type": "markdown",
   "metadata": {},
   "source": [
    "Calculate the position of each node"
   ]
  },
  {
   "cell_type": "code",
   "execution_count": 12,
   "metadata": {},
   "outputs": [],
   "source": [
    "pos = nx.spring_layout(GG,iterations=5000)"
   ]
  },
  {
   "cell_type": "code",
   "execution_count": 13,
   "metadata": {},
   "outputs": [],
   "source": [
    "pos2 = [[],[]]\n",
    "key_list = []\n",
    "for key in pos:\n",
    "    pos2[0].append(pos[key][0])\n",
    "    pos2[1].append(pos[key][1])\n",
    "    key_list.append(key)\n",
    "#     pos2[2].append(pos[key][1])\n",
    "    \n",
    "# print(pos2)\n",
    "# print(key_list)"
   ]
  },
  {
   "cell_type": "code",
   "execution_count": 14,
   "metadata": {},
   "outputs": [],
   "source": [
    "# re-sort them\n",
    "\n",
    "ii = 0\n",
    "i_vec = []\n",
    "index_vec = np.array(range(0,len(key_list)))\n",
    "\n",
    "for qn, q in enumerate([\"Q9_1\",\"Q9_2\",\"Q9_3\",\"Q9_4\",\"Q9_5\",\"Q9_6\",\"Q9_7\",\"Q9_8\"]):\n",
    "    for ans_n, ans in  enumerate([\"Strongly Agree\", 'Somewhat Agree', 'Neutral',\n",
    "                                  'Somewhat Disagree', \"Strongly Disagree\"]):\n",
    "        itemR = q+':'+ans\n",
    "        el = int(index_vec[np.array(key_list) == itemR])\n",
    "        i_vec.append(el)\n",
    "    \n",
    "key_list = np.array(key_list)\n",
    "key_list = key_list[i_vec]\n",
    "\n",
    "pos2[0] = np.array(pos2[0])\n",
    "pos2[0] = pos2[0][i_vec]\n",
    "\n",
    "pos2[1] = np.array(pos2[1])\n",
    "pos2[1] = key_list[i_vec]\n",
    "\n",
    "\n",
    "# key_list"
   ]
  },
  {
   "cell_type": "code",
   "execution_count": 15,
   "metadata": {},
   "outputs": [
    {
     "name": "stdout",
     "output_type": "stream",
     "text": [
      "[[-0.5271415217473637, -0.011019144750156473], [-0.2346756326217174, -0.37752188019050625], [-0.40132377694938226, -0.28810799863454906], [-0.13003579620868075, 0.01158098896416671], [0.7701238478211897, 0.2957940028859296], [0.9559118846964594, 0.403853264216373], [0.46855925990908404, 0.17095166116314728], [-0.3996621828567638, 0.1921448113947948], [-0.22487589131863656, -0.080284176901306], [-0.4999148288105827, -0.32297979055966125], [-0.5818277425480298, -0.2291399987567273], [-0.3316839626024013, -0.13578014538964572], [-0.029076823431824522, 0.04092828133853504], [0.5382976073386629, 0.30216447091953486], [0.891771349445785, 0.1737080251297875], [1.0, 0.31777862343026547], [0.49891583927030236, 0.09061836710695727], [-0.09993598050791508, 0.1512970897558402], [-0.2957298604708222, -0.22074103866853978], [-0.6128408382741765, -0.14318911312418553], [0.7784059625071857, 0.22480362605418389], [-0.04897248019658009, -0.2588504152802231], [-0.4426974443806112, -0.07097171681414155], [-0.1278416756265633, -0.12951761178132193], [-0.6514969439584263, -0.012066110813412644], [0.8952901300290267, 0.3059838655698101], [0.05771397165163886, -0.09002364959791277], [-0.38060930978024055, 0.09134678417698723], [-0.46115218568838295, -0.23524995157688758], [-0.5155284826797798, -0.1335998542024197], [0.8425234646300067, 0.3805019207956832], [0.3512692268197434, 0.02331807596925927], [-0.17354657692517492, 0.19120969278567027], [-0.20898681363203728, -0.1945571236322348], [-0.6846654509928373, -0.18394618646317915], [0.9614424969572393, 0.24073645232313076], [0.27061800530632224, 0.10165819088249667], [-0.3365802079245018, 0.009406810118518261], [-0.27732084312266103, -0.29769972868309424], [-0.602719793126555, -0.3045393691609678]]\n"
     ]
    }
   ],
   "source": [
    "pos3 = []\n",
    "# for key in pos:\n",
    "for key in key_list:\n",
    "#     print(key)\n",
    "    pos3.append([pos[key][0],pos[key][1]])\n",
    "#     pos2[2].append(pos[key][1])\n",
    "    \n",
    "print(pos3)"
   ]
  },
  {
   "cell_type": "code",
   "execution_count": null,
   "metadata": {},
   "outputs": [],
   "source": []
  },
  {
   "cell_type": "markdown",
   "metadata": {},
   "source": [
    "Rotate them to make the mean axis parallel to the x-axis"
   ]
  },
  {
   "cell_type": "code",
   "execution_count": 19,
   "metadata": {},
   "outputs": [],
   "source": [
    "from sklearn.decomposition import PCA"
   ]
  },
  {
   "cell_type": "code",
   "execution_count": 20,
   "metadata": {},
   "outputs": [],
   "source": [
    "pca = PCA(n_components=2)\n",
    "pca.fit(pos3)\n",
    "x_pca = pca.transform(pos3)"
   ]
  },
  {
   "cell_type": "code",
   "execution_count": 21,
   "metadata": {},
   "outputs": [
    {
     "data": {
      "image/png": "[encoded data removed]",
      "text/plain": [
       "<Figure size 432x288 with 1 Axes>"
      ]
     },
     "metadata": {
      "needs_background": "light"
     },
     "output_type": "display_data"
    }
   ],
   "source": [
    "plt.figure()\n",
    "xx = x_pca[:,0]\n",
    "yy = x_pca[:,1]\n",
    "\n",
    "mm = min(xx)*1.1\n",
    "MM = max(xx)*1.1\n",
    "\n",
    "# N_quest = 8\n",
    "# N_ans = 5\n",
    "\n",
    "koef = 3\n",
    "for i1, key1 in enumerate(key_list):\n",
    "    for i2, key2 in enumerate(key_list):\n",
    "        if (key1, key2) in GG.edges:\n",
    "            w = GG.get_edge_data(key1,key2)['weight']\n",
    "#             print(w)\n",
    "\n",
    "            if w > 0.:\n",
    "                plt.plot([xx[i1],xx[i2]],[yy[i1],yy[i2]],'k',linewidth=koef*w**2,zorder=1)\n",
    "\n",
    "index = np.array(range(0,len(xx)))+1\n",
    "N_ans = 5\n",
    "for a in range(0,N_ans): # 5 or 4?\n",
    "    m = np.remainder(index,N_ans) == a\n",
    "    plt.scatter(xx[m],yy[m],zorder=2)\n",
    "\n",
    "plt.xlim([mm, MM])\n",
    "plt.ylim([mm, MM])\n",
    "plt.grid()"
   ]
  },
  {
   "cell_type": "markdown",
   "metadata": {},
   "source": [
    "<font color='orange'>Rember that two items are inverted (that is why we have two \"misplaced\" items)</font> "
   ]
  },
  {
   "cell_type": "code",
   "execution_count": null,
   "metadata": {},
   "outputs": [],
   "source": []
  },
  {
   "cell_type": "markdown",
   "metadata": {},
   "source": [
    "#### Set the data and calculate the corr"
   ]
  },
  {
   "cell_type": "code",
   "execution_count": 22,
   "metadata": {},
   "outputs": [],
   "source": [
    "# mus_vec\n",
    "# test = np.array(range(0,40))\n",
    "values_from_our = []\n",
    "for i in range(0,8):\n",
    "    offset = i*5\n",
    "    values_from_our += list(sorted(xx[0+offset:5+offset]))\n"
   ]
  },
  {
   "cell_type": "code",
   "execution_count": 23,
   "metadata": {},
   "outputs": [],
   "source": [
    "mus_vec2 = []\n",
    "for el in mus_vec:\n",
    "    mus_vec2 += el"
   ]
  },
  {
   "cell_type": "code",
   "execution_count": 24,
   "metadata": {},
   "outputs": [
    {
     "data": {
      "text/plain": [
       "SpearmanrResult(correlation=0.9726078799249531, pvalue=1.0997584416801647e-25)"
      ]
     },
     "execution_count": 24,
     "metadata": {},
     "output_type": "execute_result"
    }
   ],
   "source": [
    "stt.spearmanr(values_from_our,mus_vec2)"
   ]
  },
  {
   "cell_type": "code",
   "execution_count": 25,
   "metadata": {},
   "outputs": [
    {
     "data": {
      "text/plain": [
       "(0.9758934296726302, 9.984527256613792e-27)"
      ]
     },
     "execution_count": 25,
     "metadata": {},
     "output_type": "execute_result"
    }
   ],
   "source": [
    "stt.pearsonr(values_from_our,mus_vec2)"
   ]
  },
  {
   "cell_type": "markdown",
   "metadata": {},
   "source": [
    "Spearman and Pearson's correlation are almost identical!"
   ]
  },
  {
   "cell_type": "code",
   "execution_count": 26,
   "metadata": {},
   "outputs": [
    {
     "data": {
      "image/png": "[encoded data removed]",
      "text/plain": [
       "<Figure size 432x288 with 1 Axes>"
      ]
     },
     "metadata": {
      "needs_background": "light"
     },
     "output_type": "display_data"
    }
   ],
   "source": [
    "plt.figure()\n",
    "plt.scatter(values_from_our,mus_vec2)\n",
    "plt.grid()"
   ]
  },
  {
   "cell_type": "code",
   "execution_count": null,
   "metadata": {},
   "outputs": [],
   "source": []
  }
 ],
 "metadata": {
  "kernelspec": {
   "display_name": "Python 3",
   "language": "python",
   "name": "python3"
  },
  "language_info": {
   "codemirror_mode": {
    "name": "ipython",
    "version": 3
   },
   "file_extension": ".py",
   "mimetype": "text/x-python",
   "name": "python",
   "nbconvert_exporter": "python",
   "pygments_lexer": "ipython3",
   "version": "3.8.5"
  }
 },
 "nbformat": 4,
 "nbformat_minor": 4
}
